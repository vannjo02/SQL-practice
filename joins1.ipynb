{
 "cells": [
  {
   "cell_type": "markdown",
   "metadata": {},
   "source": [
    "# Join Practice\n",
    "\n",
    "We will make use of the employee database for this assignment.  You will get lots of practice with joins and natural joins.  You only have to provide your answer in SQL, but you may find it useful to draw out the relational algebra to help you organize your thinking.\n",
    "\n",
    "### Due:  Friday December 4"
   ]
  },
  {
   "cell_type": "code",
   "execution_count": 2,
   "metadata": {
    "collapsed": false
   },
   "outputs": [],
   "source": [
    "import warnings\n",
    "warnings.filterwarnings('ignore')\n",
    "from sols3 import *"
   ]
  },
  {
   "cell_type": "code",
   "execution_count": 3,
   "metadata": {
    "collapsed": false
   },
   "outputs": [],
   "source": [
    "%load_ext sql"
   ]
  },
  {
   "cell_type": "code",
   "execution_count": 4,
   "metadata": {
    "collapsed": false
   },
   "outputs": [
    {
     "data": {
      "text/plain": [
       "'Connected: vannjo02@employees'"
      ]
     },
     "execution_count": 4,
     "metadata": {},
     "output_type": "execute_result"
    }
   ],
   "source": [
    "%sql postgresql://vannjo02:@localhost/employees"
   ]
  },
  {
   "cell_type": "markdown",
   "metadata": {},
   "source": [
    "### 1. List the first and last name and hire date of each employee in the Sales Department hired before Feb 7, 1985 ordered by hire date"
   ]
  },
  {
   "cell_type": "code",
   "execution_count": 9,
   "metadata": {
    "collapsed": false,
    "deletable": false,
    "nbgrader": {
     "checksum": "8ca4f79db4830b60e32e68f1f03fdb97",
     "grade": false,
     "grade_id": "join1_a",
     "locked": false,
     "solution": true
    }
   },
   "outputs": [
    {
     "name": "stdout",
     "output_type": "stream",
     "text": [
      "80 rows affected.\n"
     ]
    },
    {
     "data": {
      "text/html": [
       "<table>\n",
       "    <tr>\n",
       "        <th>first_name</th>\n",
       "        <th>last_name</th>\n",
       "        <th>hire_date</th>\n",
       "    </tr>\n",
       "    <tr>\n",
       "        <td>Przemyslawa</td>\n",
       "        <td>Kaelbling</td>\n",
       "        <td>1985-01-01</td>\n",
       "    </tr>\n",
       "    <tr>\n",
       "        <td>Adil</td>\n",
       "        <td>Furedi</td>\n",
       "        <td>1985-02-01</td>\n",
       "    </tr>\n",
       "    <tr>\n",
       "        <td>Shir</td>\n",
       "        <td>Munck</td>\n",
       "        <td>1985-02-01</td>\n",
       "    </tr>\n",
       "    <tr>\n",
       "        <td>Yongdong</td>\n",
       "        <td>Pileggi</td>\n",
       "        <td>1985-02-01</td>\n",
       "    </tr>\n",
       "    <tr>\n",
       "        <td>Guenter</td>\n",
       "        <td>Tanemo</td>\n",
       "        <td>1985-02-02</td>\n",
       "    </tr>\n",
       "    <tr>\n",
       "        <td>Erzsebet</td>\n",
       "        <td>Schwartzbauer</td>\n",
       "        <td>1985-02-02</td>\n",
       "    </tr>\n",
       "    <tr>\n",
       "        <td>Kousuke</td>\n",
       "        <td>Swist</td>\n",
       "        <td>1985-02-02</td>\n",
       "    </tr>\n",
       "    <tr>\n",
       "        <td>Chaosheng</td>\n",
       "        <td>Sommen</td>\n",
       "        <td>1985-02-02</td>\n",
       "    </tr>\n",
       "    <tr>\n",
       "        <td>Holgard</td>\n",
       "        <td>Pena</td>\n",
       "        <td>1985-02-02</td>\n",
       "    </tr>\n",
       "    <tr>\n",
       "        <td>Limsoon</td>\n",
       "        <td>Macedo</td>\n",
       "        <td>1985-02-02</td>\n",
       "    </tr>\n",
       "    <tr>\n",
       "        <td>Jingling</td>\n",
       "        <td>Vesna</td>\n",
       "        <td>1985-02-02</td>\n",
       "    </tr>\n",
       "    <tr>\n",
       "        <td>Toney</td>\n",
       "        <td>Skrikant</td>\n",
       "        <td>1985-02-02</td>\n",
       "    </tr>\n",
       "    <tr>\n",
       "        <td>Phillip</td>\n",
       "        <td>Teitelbaum</td>\n",
       "        <td>1985-02-02</td>\n",
       "    </tr>\n",
       "    <tr>\n",
       "        <td>Gay</td>\n",
       "        <td>Kumaresan</td>\n",
       "        <td>1985-02-02</td>\n",
       "    </tr>\n",
       "    <tr>\n",
       "        <td>Xinglin</td>\n",
       "        <td>Marakhovsky</td>\n",
       "        <td>1985-02-02</td>\n",
       "    </tr>\n",
       "    <tr>\n",
       "        <td>Keung</td>\n",
       "        <td>Peak</td>\n",
       "        <td>1985-02-02</td>\n",
       "    </tr>\n",
       "    <tr>\n",
       "        <td>Chikako</td>\n",
       "        <td>Malabarba</td>\n",
       "        <td>1985-02-02</td>\n",
       "    </tr>\n",
       "    <tr>\n",
       "        <td>Nagui</td>\n",
       "        <td>DiGiano</td>\n",
       "        <td>1985-02-02</td>\n",
       "    </tr>\n",
       "    <tr>\n",
       "        <td>Zita</td>\n",
       "        <td>Vural</td>\n",
       "        <td>1985-02-03</td>\n",
       "    </tr>\n",
       "    <tr>\n",
       "        <td>Nectarios</td>\n",
       "        <td>Perna</td>\n",
       "        <td>1985-02-03</td>\n",
       "    </tr>\n",
       "    <tr>\n",
       "        <td>Premsyl</td>\n",
       "        <td>Nitto</td>\n",
       "        <td>1985-02-03</td>\n",
       "    </tr>\n",
       "    <tr>\n",
       "        <td>Chiranjit</td>\n",
       "        <td>Stemann</td>\n",
       "        <td>1985-02-03</td>\n",
       "    </tr>\n",
       "    <tr>\n",
       "        <td>Fumitaka</td>\n",
       "        <td>Boyle</td>\n",
       "        <td>1985-02-03</td>\n",
       "    </tr>\n",
       "    <tr>\n",
       "        <td>Arup</td>\n",
       "        <td>Krohm</td>\n",
       "        <td>1985-02-03</td>\n",
       "    </tr>\n",
       "    <tr>\n",
       "        <td>Fumiyo</td>\n",
       "        <td>Cronau</td>\n",
       "        <td>1985-02-03</td>\n",
       "    </tr>\n",
       "    <tr>\n",
       "        <td>Aleksander</td>\n",
       "        <td>Masaki</td>\n",
       "        <td>1985-02-03</td>\n",
       "    </tr>\n",
       "    <tr>\n",
       "        <td>Godehard</td>\n",
       "        <td>Conte</td>\n",
       "        <td>1985-02-03</td>\n",
       "    </tr>\n",
       "    <tr>\n",
       "        <td>Halsur</td>\n",
       "        <td>Birrer</td>\n",
       "        <td>1985-02-03</td>\n",
       "    </tr>\n",
       "    <tr>\n",
       "        <td>Huan</td>\n",
       "        <td>Dahlbom</td>\n",
       "        <td>1985-02-03</td>\n",
       "    </tr>\n",
       "    <tr>\n",
       "        <td>Shakhar</td>\n",
       "        <td>Sgarro</td>\n",
       "        <td>1985-02-03</td>\n",
       "    </tr>\n",
       "    <tr>\n",
       "        <td>Surveyors</td>\n",
       "        <td>Badache</td>\n",
       "        <td>1985-02-03</td>\n",
       "    </tr>\n",
       "    <tr>\n",
       "        <td>Mitchel</td>\n",
       "        <td>Gustavson</td>\n",
       "        <td>1985-02-03</td>\n",
       "    </tr>\n",
       "    <tr>\n",
       "        <td>Moti</td>\n",
       "        <td>Oppitz</td>\n",
       "        <td>1985-02-04</td>\n",
       "    </tr>\n",
       "    <tr>\n",
       "        <td>Arto</td>\n",
       "        <td>Argence</td>\n",
       "        <td>1985-02-04</td>\n",
       "    </tr>\n",
       "    <tr>\n",
       "        <td>Lech</td>\n",
       "        <td>Linnainmaa</td>\n",
       "        <td>1985-02-04</td>\n",
       "    </tr>\n",
       "    <tr>\n",
       "        <td>Stafford</td>\n",
       "        <td>Luce</td>\n",
       "        <td>1985-02-04</td>\n",
       "    </tr>\n",
       "    <tr>\n",
       "        <td>Fox</td>\n",
       "        <td>Waschkowski</td>\n",
       "        <td>1985-02-04</td>\n",
       "    </tr>\n",
       "    <tr>\n",
       "        <td>Khalid</td>\n",
       "        <td>Salinas</td>\n",
       "        <td>1985-02-04</td>\n",
       "    </tr>\n",
       "    <tr>\n",
       "        <td>Goa</td>\n",
       "        <td>Parfitt</td>\n",
       "        <td>1985-02-04</td>\n",
       "    </tr>\n",
       "    <tr>\n",
       "        <td>Eberhardt</td>\n",
       "        <td>Pramanik</td>\n",
       "        <td>1985-02-04</td>\n",
       "    </tr>\n",
       "    <tr>\n",
       "        <td>Xiong</td>\n",
       "        <td>Chenoweth</td>\n",
       "        <td>1985-02-04</td>\n",
       "    </tr>\n",
       "    <tr>\n",
       "        <td>Tran</td>\n",
       "        <td>Jiang</td>\n",
       "        <td>1985-02-04</td>\n",
       "    </tr>\n",
       "    <tr>\n",
       "        <td>Limsoon</td>\n",
       "        <td>Bage</td>\n",
       "        <td>1985-02-05</td>\n",
       "    </tr>\n",
       "    <tr>\n",
       "        <td>Boutros</td>\n",
       "        <td>Velardi</td>\n",
       "        <td>1985-02-05</td>\n",
       "    </tr>\n",
       "    <tr>\n",
       "        <td>Ohad</td>\n",
       "        <td>Srimani</td>\n",
       "        <td>1985-02-05</td>\n",
       "    </tr>\n",
       "    <tr>\n",
       "        <td>Niteen</td>\n",
       "        <td>Matteis</td>\n",
       "        <td>1985-02-05</td>\n",
       "    </tr>\n",
       "    <tr>\n",
       "        <td>Vasilis</td>\n",
       "        <td>Pettis</td>\n",
       "        <td>1985-02-05</td>\n",
       "    </tr>\n",
       "    <tr>\n",
       "        <td>Berry</td>\n",
       "        <td>Dulli</td>\n",
       "        <td>1985-02-05</td>\n",
       "    </tr>\n",
       "    <tr>\n",
       "        <td>Heather</td>\n",
       "        <td>Paciorek</td>\n",
       "        <td>1985-02-05</td>\n",
       "    </tr>\n",
       "    <tr>\n",
       "        <td>Jaques</td>\n",
       "        <td>Hashii</td>\n",
       "        <td>1985-02-05</td>\n",
       "    </tr>\n",
       "    <tr>\n",
       "        <td>Rance</td>\n",
       "        <td>Chepyzhov</td>\n",
       "        <td>1985-02-05</td>\n",
       "    </tr>\n",
       "    <tr>\n",
       "        <td>Goh</td>\n",
       "        <td>Linnainmaa</td>\n",
       "        <td>1985-02-05</td>\n",
       "    </tr>\n",
       "    <tr>\n",
       "        <td>Elvia</td>\n",
       "        <td>Baalen</td>\n",
       "        <td>1985-02-05</td>\n",
       "    </tr>\n",
       "    <tr>\n",
       "        <td>Goa</td>\n",
       "        <td>Swick</td>\n",
       "        <td>1985-02-05</td>\n",
       "    </tr>\n",
       "    <tr>\n",
       "        <td>Ulf</td>\n",
       "        <td>Demos</td>\n",
       "        <td>1985-02-05</td>\n",
       "    </tr>\n",
       "    <tr>\n",
       "        <td>Ramalingam</td>\n",
       "        <td>Validov</td>\n",
       "        <td>1985-02-05</td>\n",
       "    </tr>\n",
       "    <tr>\n",
       "        <td>Gregory</td>\n",
       "        <td>Griswold</td>\n",
       "        <td>1985-02-05</td>\n",
       "    </tr>\n",
       "    <tr>\n",
       "        <td>Mariusz</td>\n",
       "        <td>Pokrovskii</td>\n",
       "        <td>1985-02-05</td>\n",
       "    </tr>\n",
       "    <tr>\n",
       "        <td>Shaleah</td>\n",
       "        <td>Panwar</td>\n",
       "        <td>1985-02-05</td>\n",
       "    </tr>\n",
       "    <tr>\n",
       "        <td>Amalendu</td>\n",
       "        <td>Hiyoshi</td>\n",
       "        <td>1985-02-05</td>\n",
       "    </tr>\n",
       "    <tr>\n",
       "        <td>Chiranjit</td>\n",
       "        <td>Ghelli</td>\n",
       "        <td>1985-02-05</td>\n",
       "    </tr>\n",
       "    <tr>\n",
       "        <td>Miyeon</td>\n",
       "        <td>Yemenis</td>\n",
       "        <td>1985-02-05</td>\n",
       "    </tr>\n",
       "    <tr>\n",
       "        <td>Bedrich</td>\n",
       "        <td>Lubachevsky</td>\n",
       "        <td>1985-02-05</td>\n",
       "    </tr>\n",
       "    <tr>\n",
       "        <td>Ipke</td>\n",
       "        <td>Zallocco</td>\n",
       "        <td>1985-02-06</td>\n",
       "    </tr>\n",
       "    <tr>\n",
       "        <td>Elvia</td>\n",
       "        <td>Christ</td>\n",
       "        <td>1985-02-06</td>\n",
       "    </tr>\n",
       "    <tr>\n",
       "        <td>Noritoshi</td>\n",
       "        <td>Luff</td>\n",
       "        <td>1985-02-06</td>\n",
       "    </tr>\n",
       "    <tr>\n",
       "        <td>Kagan</td>\n",
       "        <td>Radhakrishnan</td>\n",
       "        <td>1985-02-06</td>\n",
       "    </tr>\n",
       "    <tr>\n",
       "        <td>Xiaoqiang</td>\n",
       "        <td>Ferriere</td>\n",
       "        <td>1985-02-06</td>\n",
       "    </tr>\n",
       "    <tr>\n",
       "        <td>Uriel</td>\n",
       "        <td>Daescu</td>\n",
       "        <td>1985-02-06</td>\n",
       "    </tr>\n",
       "    <tr>\n",
       "        <td>Dhritiman</td>\n",
       "        <td>Masamoto</td>\n",
       "        <td>1985-02-06</td>\n",
       "    </tr>\n",
       "    <tr>\n",
       "        <td>Sumant</td>\n",
       "        <td>Ertl</td>\n",
       "        <td>1985-02-06</td>\n",
       "    </tr>\n",
       "    <tr>\n",
       "        <td>Hugo</td>\n",
       "        <td>Griswold</td>\n",
       "        <td>1985-02-06</td>\n",
       "    </tr>\n",
       "    <tr>\n",
       "        <td>Pragnesh</td>\n",
       "        <td>Orlowska</td>\n",
       "        <td>1985-02-06</td>\n",
       "    </tr>\n",
       "    <tr>\n",
       "        <td>Ranan</td>\n",
       "        <td>Demir</td>\n",
       "        <td>1985-02-06</td>\n",
       "    </tr>\n",
       "    <tr>\n",
       "        <td>Mohua</td>\n",
       "        <td>Pocchiola</td>\n",
       "        <td>1985-02-06</td>\n",
       "    </tr>\n",
       "    <tr>\n",
       "        <td>Xianlong</td>\n",
       "        <td>Trachtenberg</td>\n",
       "        <td>1985-02-06</td>\n",
       "    </tr>\n",
       "    <tr>\n",
       "        <td>Nakhoon</td>\n",
       "        <td>Falby</td>\n",
       "        <td>1985-02-06</td>\n",
       "    </tr>\n",
       "    <tr>\n",
       "        <td>Horward</td>\n",
       "        <td>Steenbeek</td>\n",
       "        <td>1985-02-06</td>\n",
       "    </tr>\n",
       "    <tr>\n",
       "        <td>Adil</td>\n",
       "        <td>Uludag</td>\n",
       "        <td>1985-02-06</td>\n",
       "    </tr>\n",
       "    <tr>\n",
       "        <td>Aimee</td>\n",
       "        <td>Baja</td>\n",
       "        <td>1985-02-06</td>\n",
       "    </tr>\n",
       "</table>"
      ],
      "text/plain": [
       "[('Przemyslawa', 'Kaelbling', datetime.date(1985, 1, 1)),\n",
       " ('Adil', 'Furedi', datetime.date(1985, 2, 1)),\n",
       " ('Shir', 'Munck', datetime.date(1985, 2, 1)),\n",
       " ('Yongdong', 'Pileggi', datetime.date(1985, 2, 1)),\n",
       " ('Guenter', 'Tanemo', datetime.date(1985, 2, 2)),\n",
       " ('Erzsebet', 'Schwartzbauer', datetime.date(1985, 2, 2)),\n",
       " ('Kousuke', 'Swist', datetime.date(1985, 2, 2)),\n",
       " ('Chaosheng', 'Sommen', datetime.date(1985, 2, 2)),\n",
       " ('Holgard', 'Pena', datetime.date(1985, 2, 2)),\n",
       " ('Limsoon', 'Macedo', datetime.date(1985, 2, 2)),\n",
       " ('Jingling', 'Vesna', datetime.date(1985, 2, 2)),\n",
       " ('Toney', 'Skrikant', datetime.date(1985, 2, 2)),\n",
       " ('Phillip', 'Teitelbaum', datetime.date(1985, 2, 2)),\n",
       " ('Gay', 'Kumaresan', datetime.date(1985, 2, 2)),\n",
       " ('Xinglin', 'Marakhovsky', datetime.date(1985, 2, 2)),\n",
       " ('Keung', 'Peak', datetime.date(1985, 2, 2)),\n",
       " ('Chikako', 'Malabarba', datetime.date(1985, 2, 2)),\n",
       " ('Nagui', 'DiGiano', datetime.date(1985, 2, 2)),\n",
       " ('Zita', 'Vural', datetime.date(1985, 2, 3)),\n",
       " ('Nectarios', 'Perna', datetime.date(1985, 2, 3)),\n",
       " ('Premsyl', 'Nitto', datetime.date(1985, 2, 3)),\n",
       " ('Chiranjit', 'Stemann', datetime.date(1985, 2, 3)),\n",
       " ('Fumitaka', 'Boyle', datetime.date(1985, 2, 3)),\n",
       " ('Arup', 'Krohm', datetime.date(1985, 2, 3)),\n",
       " ('Fumiyo', 'Cronau', datetime.date(1985, 2, 3)),\n",
       " ('Aleksander', 'Masaki', datetime.date(1985, 2, 3)),\n",
       " ('Godehard', 'Conte', datetime.date(1985, 2, 3)),\n",
       " ('Halsur', 'Birrer', datetime.date(1985, 2, 3)),\n",
       " ('Huan', 'Dahlbom', datetime.date(1985, 2, 3)),\n",
       " ('Shakhar', 'Sgarro', datetime.date(1985, 2, 3)),\n",
       " ('Surveyors', 'Badache', datetime.date(1985, 2, 3)),\n",
       " ('Mitchel', 'Gustavson', datetime.date(1985, 2, 3)),\n",
       " ('Moti', 'Oppitz', datetime.date(1985, 2, 4)),\n",
       " ('Arto', 'Argence', datetime.date(1985, 2, 4)),\n",
       " ('Lech', 'Linnainmaa', datetime.date(1985, 2, 4)),\n",
       " ('Stafford', 'Luce', datetime.date(1985, 2, 4)),\n",
       " ('Fox', 'Waschkowski', datetime.date(1985, 2, 4)),\n",
       " ('Khalid', 'Salinas', datetime.date(1985, 2, 4)),\n",
       " ('Goa', 'Parfitt', datetime.date(1985, 2, 4)),\n",
       " ('Eberhardt', 'Pramanik', datetime.date(1985, 2, 4)),\n",
       " ('Xiong', 'Chenoweth', datetime.date(1985, 2, 4)),\n",
       " ('Tran', 'Jiang', datetime.date(1985, 2, 4)),\n",
       " ('Limsoon', 'Bage', datetime.date(1985, 2, 5)),\n",
       " ('Boutros', 'Velardi', datetime.date(1985, 2, 5)),\n",
       " ('Ohad', 'Srimani', datetime.date(1985, 2, 5)),\n",
       " ('Niteen', 'Matteis', datetime.date(1985, 2, 5)),\n",
       " ('Vasilis', 'Pettis', datetime.date(1985, 2, 5)),\n",
       " ('Berry', 'Dulli', datetime.date(1985, 2, 5)),\n",
       " ('Heather', 'Paciorek', datetime.date(1985, 2, 5)),\n",
       " ('Jaques', 'Hashii', datetime.date(1985, 2, 5)),\n",
       " ('Rance', 'Chepyzhov', datetime.date(1985, 2, 5)),\n",
       " ('Goh', 'Linnainmaa', datetime.date(1985, 2, 5)),\n",
       " ('Elvia', 'Baalen', datetime.date(1985, 2, 5)),\n",
       " ('Goa', 'Swick', datetime.date(1985, 2, 5)),\n",
       " ('Ulf', 'Demos', datetime.date(1985, 2, 5)),\n",
       " ('Ramalingam', 'Validov', datetime.date(1985, 2, 5)),\n",
       " ('Gregory', 'Griswold', datetime.date(1985, 2, 5)),\n",
       " ('Mariusz', 'Pokrovskii', datetime.date(1985, 2, 5)),\n",
       " ('Shaleah', 'Panwar', datetime.date(1985, 2, 5)),\n",
       " ('Amalendu', 'Hiyoshi', datetime.date(1985, 2, 5)),\n",
       " ('Chiranjit', 'Ghelli', datetime.date(1985, 2, 5)),\n",
       " ('Miyeon', 'Yemenis', datetime.date(1985, 2, 5)),\n",
       " ('Bedrich', 'Lubachevsky', datetime.date(1985, 2, 5)),\n",
       " ('Ipke', 'Zallocco', datetime.date(1985, 2, 6)),\n",
       " ('Elvia', 'Christ', datetime.date(1985, 2, 6)),\n",
       " ('Noritoshi', 'Luff', datetime.date(1985, 2, 6)),\n",
       " ('Kagan', 'Radhakrishnan', datetime.date(1985, 2, 6)),\n",
       " ('Xiaoqiang', 'Ferriere', datetime.date(1985, 2, 6)),\n",
       " ('Uriel', 'Daescu', datetime.date(1985, 2, 6)),\n",
       " ('Dhritiman', 'Masamoto', datetime.date(1985, 2, 6)),\n",
       " ('Sumant', 'Ertl', datetime.date(1985, 2, 6)),\n",
       " ('Hugo', 'Griswold', datetime.date(1985, 2, 6)),\n",
       " ('Pragnesh', 'Orlowska', datetime.date(1985, 2, 6)),\n",
       " ('Ranan', 'Demir', datetime.date(1985, 2, 6)),\n",
       " ('Mohua', 'Pocchiola', datetime.date(1985, 2, 6)),\n",
       " ('Xianlong', 'Trachtenberg', datetime.date(1985, 2, 6)),\n",
       " ('Nakhoon', 'Falby', datetime.date(1985, 2, 6)),\n",
       " ('Horward', 'Steenbeek', datetime.date(1985, 2, 6)),\n",
       " ('Adil', 'Uludag', datetime.date(1985, 2, 6)),\n",
       " ('Aimee', 'Baja', datetime.date(1985, 2, 6))]"
      ]
     },
     "execution_count": 9,
     "metadata": {},
     "output_type": "execute_result"
    }
   ],
   "source": [
    "%%sql\n",
    "\n",
    "select first_name, last_name, hire_date from employees \n",
    "natural join dept_emp natural join departments\n",
    "where hire_date < '1985-02-07' and dept_name = 'Sales'\n",
    "order by hire_date;\n"
   ]
  },
  {
   "cell_type": "code",
   "execution_count": 10,
   "metadata": {
    "collapsed": false,
    "deletable": false,
    "nbgrader": {
     "checksum": "661e1042690adf183e747f9313143066",
     "grade": true,
     "grade_id": "join1_t",
     "locked": true,
     "points": 2,
     "solution": false
    }
   },
   "outputs": [],
   "source": [
    "join1_test(_)"
   ]
  },
  {
   "cell_type": "markdown",
   "metadata": {},
   "source": [
    "### 2. How many employees currently work for each department (order from smallest to largest)?"
   ]
  },
  {
   "cell_type": "code",
   "execution_count": 14,
   "metadata": {
    "collapsed": false,
    "deletable": false,
    "nbgrader": {
     "checksum": "fbd9f979fcc42133fca6e9504319ea92",
     "grade": false,
     "grade_id": "join2_a",
     "locked": false,
     "solution": true
    }
   },
   "outputs": [
    {
     "name": "stdout",
     "output_type": "stream",
     "text": [
      "9 rows affected.\n"
     ]
    },
    {
     "data": {
      "text/html": [
       "<table>\n",
       "    <tr>\n",
       "        <th>dept_name</th>\n",
       "        <th>count</th>\n",
       "    </tr>\n",
       "    <tr>\n",
       "        <td>Finance</td>\n",
       "        <td>12437</td>\n",
       "    </tr>\n",
       "    <tr>\n",
       "        <td>Human Resources</td>\n",
       "        <td>12898</td>\n",
       "    </tr>\n",
       "    <tr>\n",
       "        <td>Quality Management</td>\n",
       "        <td>14546</td>\n",
       "    </tr>\n",
       "    <tr>\n",
       "        <td>Marketing</td>\n",
       "        <td>14842</td>\n",
       "    </tr>\n",
       "    <tr>\n",
       "        <td>Research</td>\n",
       "        <td>15441</td>\n",
       "    </tr>\n",
       "    <tr>\n",
       "        <td>Customer Service</td>\n",
       "        <td>17569</td>\n",
       "    </tr>\n",
       "    <tr>\n",
       "        <td>Sales</td>\n",
       "        <td>37701</td>\n",
       "    </tr>\n",
       "    <tr>\n",
       "        <td>Production</td>\n",
       "        <td>53304</td>\n",
       "    </tr>\n",
       "    <tr>\n",
       "        <td>Development</td>\n",
       "        <td>61386</td>\n",
       "    </tr>\n",
       "</table>"
      ],
      "text/plain": [
       "[('Finance', 12437),\n",
       " ('Human Resources', 12898),\n",
       " ('Quality Management', 14546),\n",
       " ('Marketing', 14842),\n",
       " ('Research', 15441),\n",
       " ('Customer Service', 17569),\n",
       " ('Sales', 37701),\n",
       " ('Production', 53304),\n",
       " ('Development', 61386)]"
      ]
     },
     "execution_count": 14,
     "metadata": {},
     "output_type": "execute_result"
    }
   ],
   "source": [
    "%%sql\n",
    "\n",
    "select dept_name, count(*) from departments natural join dept_emp\n",
    "where now() < to_date \n",
    "group by (dept_name) order by count"
   ]
  },
  {
   "cell_type": "code",
   "execution_count": 15,
   "metadata": {
    "collapsed": false,
    "deletable": false,
    "nbgrader": {
     "checksum": "8c4aa77ebbe8f2cf1b6ef53f96174496",
     "grade": true,
     "grade_id": "join2_t",
     "locked": true,
     "points": 2,
     "solution": false
    }
   },
   "outputs": [
    {
     "name": "stdout",
     "output_type": "stream",
     "text": [
      "Found differences in two results:\n",
      "But a line by line comparison turned out OK, so you are fine\n"
     ]
    }
   ],
   "source": [
    "join2_test(_)"
   ]
  },
  {
   "cell_type": "markdown",
   "metadata": {},
   "source": [
    "### 3.  How many employees no longer work for the Research department?\n",
    "\n",
    "the answer should be a single row and column."
   ]
  },
  {
   "cell_type": "code",
   "execution_count": 24,
   "metadata": {
    "collapsed": false,
    "deletable": false,
    "nbgrader": {
     "checksum": "23fd65af688fd8c7de8cf537a77dc164",
     "grade": false,
     "grade_id": "join3_a",
     "locked": false,
     "solution": true
    }
   },
   "outputs": [
    {
     "name": "stdout",
     "output_type": "stream",
     "text": [
      "1 rows affected.\n"
     ]
    },
    {
     "data": {
      "text/html": [
       "<table>\n",
       "    <tr>\n",
       "        <th>count</th>\n",
       "    </tr>\n",
       "    <tr>\n",
       "        <td>5685</td>\n",
       "    </tr>\n",
       "</table>"
      ],
      "text/plain": [
       "[(5685,)]"
      ]
     },
     "execution_count": 24,
     "metadata": {},
     "output_type": "execute_result"
    }
   ],
   "source": [
    "%%sql \n",
    "\n",
    "select count(*) from departments natural join dept_emp where dept_name = 'Research' and now() > to_date;"
   ]
  },
  {
   "cell_type": "code",
   "execution_count": 25,
   "metadata": {
    "collapsed": false,
    "deletable": false,
    "nbgrader": {
     "checksum": "ae21a3836153357958abc4c92bfee1d0",
     "grade": true,
     "grade_id": "join3_t",
     "locked": true,
     "points": 2,
     "solution": false
    }
   },
   "outputs": [],
   "source": [
    "join3_test(_)"
   ]
  },
  {
   "cell_type": "markdown",
   "metadata": {},
   "source": [
    "### 4. give the hire date of the last employee hired in each department"
   ]
  },
  {
   "cell_type": "code",
   "execution_count": 27,
   "metadata": {
    "collapsed": false,
    "deletable": false,
    "nbgrader": {
     "checksum": "62b138e2fab2d299cf3f992514e59218",
     "grade": false,
     "grade_id": "join4_a",
     "locked": false,
     "solution": true
    }
   },
   "outputs": [
    {
     "name": "stdout",
     "output_type": "stream",
     "text": [
      "9 rows affected.\n"
     ]
    },
    {
     "data": {
      "text/html": [
       "<table>\n",
       "    <tr>\n",
       "        <th>dept_name</th>\n",
       "        <th>max</th>\n",
       "    </tr>\n",
       "    <tr>\n",
       "        <td>Research</td>\n",
       "        <td>1999-12-10</td>\n",
       "    </tr>\n",
       "    <tr>\n",
       "        <td>Sales</td>\n",
       "        <td>2000-01-04</td>\n",
       "    </tr>\n",
       "    <tr>\n",
       "        <td>Customer Service</td>\n",
       "        <td>2000-01-02</td>\n",
       "    </tr>\n",
       "    <tr>\n",
       "        <td>Marketing</td>\n",
       "        <td>2000-01-04</td>\n",
       "    </tr>\n",
       "    <tr>\n",
       "        <td>Human Resources</td>\n",
       "        <td>2000-01-13</td>\n",
       "    </tr>\n",
       "    <tr>\n",
       "        <td>Production</td>\n",
       "        <td>2000-01-23</td>\n",
       "    </tr>\n",
       "    <tr>\n",
       "        <td>Quality Management</td>\n",
       "        <td>2000-01-28</td>\n",
       "    </tr>\n",
       "    <tr>\n",
       "        <td>Development</td>\n",
       "        <td>2000-01-22</td>\n",
       "    </tr>\n",
       "    <tr>\n",
       "        <td>Finance</td>\n",
       "        <td>2000-01-06</td>\n",
       "    </tr>\n",
       "</table>"
      ],
      "text/plain": [
       "[('Research', datetime.date(1999, 12, 10)),\n",
       " ('Sales', datetime.date(2000, 1, 4)),\n",
       " ('Customer Service', datetime.date(2000, 1, 2)),\n",
       " ('Marketing', datetime.date(2000, 1, 4)),\n",
       " ('Human Resources', datetime.date(2000, 1, 13)),\n",
       " ('Production', datetime.date(2000, 1, 23)),\n",
       " ('Quality Management', datetime.date(2000, 1, 28)),\n",
       " ('Development', datetime.date(2000, 1, 22)),\n",
       " ('Finance', datetime.date(2000, 1, 6))]"
      ]
     },
     "execution_count": 27,
     "metadata": {},
     "output_type": "execute_result"
    }
   ],
   "source": [
    "%%sql\n",
    "\n",
    "select dept_name, max(hire_date)\n",
    "from departments natural join dept_emp natural join employees\n",
    "group by dept_name"
   ]
  },
  {
   "cell_type": "code",
   "execution_count": null,
   "metadata": {
    "collapsed": true,
    "deletable": false,
    "nbgrader": {
     "checksum": "db90737c7dca7897138f25450bc3f83c",
     "grade": true,
     "grade_id": "join4_t",
     "locked": true,
     "points": 2,
     "solution": false
    }
   },
   "outputs": [],
   "source": [
    "join4_test(_)"
   ]
  },
  {
   "cell_type": "markdown",
   "metadata": {},
   "source": [
    "### 5. List names of all of the managers and their starting and ending dates who have managed the Customer Service department, order them from first to last."
   ]
  },
  {
   "cell_type": "code",
   "execution_count": 28,
   "metadata": {
    "collapsed": false,
    "deletable": false,
    "nbgrader": {
     "checksum": "fd151a8ec52ce6c50526fb9bad02c4ec",
     "grade": false,
     "grade_id": "join5_a",
     "locked": false,
     "solution": true
    }
   },
   "outputs": [
    {
     "name": "stdout",
     "output_type": "stream",
     "text": [
      "4 rows affected.\n"
     ]
    },
    {
     "data": {
      "text/html": [
       "<table>\n",
       "    <tr>\n",
       "        <th>first_name</th>\n",
       "        <th>last_name</th>\n",
       "        <th>from_date</th>\n",
       "        <th>to_date</th>\n",
       "    </tr>\n",
       "    <tr>\n",
       "        <td>Tonny</td>\n",
       "        <td>Butterworth</td>\n",
       "        <td>1985-01-01</td>\n",
       "        <td>1988-10-17</td>\n",
       "    </tr>\n",
       "    <tr>\n",
       "        <td>Marjo</td>\n",
       "        <td>Giarratana</td>\n",
       "        <td>1988-10-17</td>\n",
       "        <td>1992-09-08</td>\n",
       "    </tr>\n",
       "    <tr>\n",
       "        <td>Xiaobin</td>\n",
       "        <td>Spinelli</td>\n",
       "        <td>1992-09-08</td>\n",
       "        <td>1996-01-03</td>\n",
       "    </tr>\n",
       "    <tr>\n",
       "        <td>Yuchang</td>\n",
       "        <td>Weedman</td>\n",
       "        <td>1996-01-03</td>\n",
       "        <td>9999-01-01</td>\n",
       "    </tr>\n",
       "</table>"
      ],
      "text/plain": [
       "[('Tonny', 'Butterworth', datetime.date(1985, 1, 1), datetime.date(1988, 10, 17)),\n",
       " ('Marjo', 'Giarratana', datetime.date(1988, 10, 17), datetime.date(1992, 9, 8)),\n",
       " ('Xiaobin', 'Spinelli', datetime.date(1992, 9, 8), datetime.date(1996, 1, 3)),\n",
       " ('Yuchang', 'Weedman', datetime.date(1996, 1, 3), datetime.date(9999, 1, 1))]"
      ]
     },
     "execution_count": 28,
     "metadata": {},
     "output_type": "execute_result"
    }
   ],
   "source": [
    "%%sql \n",
    "\n",
    "select first_name, last_name, from_date, to_date from departments natural join dept_manager natural join employees\n",
    "where dept_name = 'Customer Service'\n",
    "order by from_date"
   ]
  },
  {
   "cell_type": "code",
   "execution_count": null,
   "metadata": {
    "collapsed": true,
    "deletable": false,
    "nbgrader": {
     "checksum": "a615226398b42a9b6fee0cd590a333a8",
     "grade": true,
     "grade_id": "join5_t",
     "locked": true,
     "points": 2,
     "solution": false
    }
   },
   "outputs": [],
   "source": [
    "join5_test(_)"
   ]
  },
  {
   "cell_type": "markdown",
   "metadata": {},
   "source": [
    "### 6. Give the first name and last name and salary of the 10 highest paid employees, current"
   ]
  },
  {
   "cell_type": "code",
   "execution_count": 32,
   "metadata": {
    "collapsed": false,
    "deletable": false,
    "nbgrader": {
     "checksum": "5bf0450f08445a7fce04e5923ded77ac",
     "grade": false,
     "grade_id": "join6_a",
     "locked": false,
     "solution": true
    }
   },
   "outputs": [
    {
     "name": "stdout",
     "output_type": "stream",
     "text": [
      "10 rows affected.\n"
     ]
    },
    {
     "data": {
      "text/html": [
       "<table>\n",
       "    <tr>\n",
       "        <th>first_name</th>\n",
       "        <th>last_name</th>\n",
       "        <th>salary</th>\n",
       "    </tr>\n",
       "    <tr>\n",
       "        <td>Olivera</td>\n",
       "        <td>Baek</td>\n",
       "        <td>38623</td>\n",
       "    </tr>\n",
       "    <tr>\n",
       "        <td>Pascal</td>\n",
       "        <td>Lueh</td>\n",
       "        <td>38936</td>\n",
       "    </tr>\n",
       "    <tr>\n",
       "        <td>Sachar</td>\n",
       "        <td>Nicolson</td>\n",
       "        <td>38942</td>\n",
       "    </tr>\n",
       "    <tr>\n",
       "        <td>Yurij</td>\n",
       "        <td>Narwekar</td>\n",
       "        <td>39012</td>\n",
       "    </tr>\n",
       "    <tr>\n",
       "        <td>Oldrich</td>\n",
       "        <td>Schmiedel</td>\n",
       "        <td>39036</td>\n",
       "    </tr>\n",
       "    <tr>\n",
       "        <td>Gianluca</td>\n",
       "        <td>Talmor</td>\n",
       "        <td>39117</td>\n",
       "    </tr>\n",
       "    <tr>\n",
       "        <td>Marie</td>\n",
       "        <td>Marrakchi</td>\n",
       "        <td>39186</td>\n",
       "    </tr>\n",
       "    <tr>\n",
       "        <td>Xiaopeng</td>\n",
       "        <td>Piancastelli</td>\n",
       "        <td>39227</td>\n",
       "    </tr>\n",
       "    <tr>\n",
       "        <td>Angus</td>\n",
       "        <td>Schlumberger</td>\n",
       "        <td>39264</td>\n",
       "    </tr>\n",
       "    <tr>\n",
       "        <td>Vidar</td>\n",
       "        <td>Turnbull</td>\n",
       "        <td>39285</td>\n",
       "    </tr>\n",
       "</table>"
      ],
      "text/plain": [
       "[('Olivera', 'Baek', 38623),\n",
       " ('Pascal', 'Lueh', 38936),\n",
       " ('Sachar', 'Nicolson', 38942),\n",
       " ('Yurij', 'Narwekar', 39012),\n",
       " ('Oldrich', 'Schmiedel', 39036),\n",
       " ('Gianluca', 'Talmor', 39117),\n",
       " ('Marie', 'Marrakchi', 39186),\n",
       " ('Xiaopeng', 'Piancastelli', 39227),\n",
       " ('Angus', 'Schlumberger', 39264),\n",
       " ('Vidar', 'Turnbull', 39285)]"
      ]
     },
     "execution_count": 32,
     "metadata": {},
     "output_type": "execute_result"
    }
   ],
   "source": [
    "%%sql\n",
    "\n",
    "select first_name, last_name, salary\n",
    "from salaries natural join employees\n",
    "where now() < to_date\n",
    "order by salary\n",
    "limit(10)\n",
    "\n",
    "\n"
   ]
  },
  {
   "cell_type": "code",
   "execution_count": null,
   "metadata": {
    "collapsed": true,
    "deletable": false,
    "nbgrader": {
     "checksum": "60a04bd41841c98279a05c78f605ff59",
     "grade": true,
     "grade_id": "join6_t",
     "locked": true,
     "points": 2,
     "solution": false
    }
   },
   "outputs": [],
   "source": [
    "join6_test(_)"
   ]
  },
  {
   "cell_type": "markdown",
   "metadata": {},
   "source": [
    "### 7. Give the first name, last name, salary, and title of the 10 highest paid employees, current"
   ]
  },
  {
   "cell_type": "code",
   "execution_count": null,
   "metadata": {
    "collapsed": false,
    "deletable": false,
    "nbgrader": {
     "checksum": "c1b3c48798b99e640c95bda4e57220ae",
     "grade": false,
     "grade_id": "join7_a",
     "locked": false,
     "solution": true
    }
   },
   "outputs": [],
   "source": [
    "%%sql \n",
    "\n",
    "select first_name, last_name, salary, title\n",
    "from employees natural join salaries join titles \n",
    "....\n",
    "\n",
    "....\n",
    "...\n"
   ]
  },
  {
   "cell_type": "code",
   "execution_count": null,
   "metadata": {
    "collapsed": true,
    "deletable": false,
    "nbgrader": {
     "checksum": "2073c0998760417877b00ae3fa25e4ec",
     "grade": true,
     "grade_id": "join7_t",
     "locked": true,
     "points": 2,
     "solution": false
    }
   },
   "outputs": [],
   "source": [
    "join7_test(_)"
   ]
  },
  {
   "cell_type": "markdown",
   "metadata": {},
   "source": [
    "### 8. Give the  first and last name, salary, and department of the 10 lowest paid employees, current\n"
   ]
  },
  {
   "cell_type": "code",
   "execution_count": 35,
   "metadata": {
    "collapsed": false,
    "deletable": false,
    "nbgrader": {
     "checksum": "f168d6d0a3428e15f8f492699da1d9d4",
     "grade": false,
     "grade_id": "join8_a",
     "locked": false,
     "solution": true
    }
   },
   "outputs": [
    {
     "name": "stdout",
     "output_type": "stream",
     "text": [
      "10 rows affected.\n"
     ]
    },
    {
     "data": {
      "text/html": [
       "<table>\n",
       "    <tr>\n",
       "        <th>first_name</th>\n",
       "        <th>last_name</th>\n",
       "        <th>salary</th>\n",
       "        <th>dept_name</th>\n",
       "    </tr>\n",
       "    <tr>\n",
       "        <td>Olivera</td>\n",
       "        <td>Baek</td>\n",
       "        <td>38623</td>\n",
       "        <td>Production</td>\n",
       "    </tr>\n",
       "    <tr>\n",
       "        <td>Pascal</td>\n",
       "        <td>Lueh</td>\n",
       "        <td>38936</td>\n",
       "        <td>Human Resources</td>\n",
       "    </tr>\n",
       "    <tr>\n",
       "        <td>Sachar</td>\n",
       "        <td>Nicolson</td>\n",
       "        <td>38942</td>\n",
       "        <td>Quality Management</td>\n",
       "    </tr>\n",
       "    <tr>\n",
       "        <td>Yurij</td>\n",
       "        <td>Narwekar</td>\n",
       "        <td>39012</td>\n",
       "        <td>Finance</td>\n",
       "    </tr>\n",
       "    <tr>\n",
       "        <td>Oldrich</td>\n",
       "        <td>Schmiedel</td>\n",
       "        <td>39036</td>\n",
       "        <td>Development</td>\n",
       "    </tr>\n",
       "    <tr>\n",
       "        <td>Gianluca</td>\n",
       "        <td>Talmor</td>\n",
       "        <td>39117</td>\n",
       "        <td>Quality Management</td>\n",
       "    </tr>\n",
       "    <tr>\n",
       "        <td>Marie</td>\n",
       "        <td>Marrakchi</td>\n",
       "        <td>39186</td>\n",
       "        <td>Research</td>\n",
       "    </tr>\n",
       "    <tr>\n",
       "        <td>Xiaopeng</td>\n",
       "        <td>Piancastelli</td>\n",
       "        <td>39227</td>\n",
       "        <td>Human Resources</td>\n",
       "    </tr>\n",
       "    <tr>\n",
       "        <td>Angus</td>\n",
       "        <td>Schlumberger</td>\n",
       "        <td>39264</td>\n",
       "        <td>Research</td>\n",
       "    </tr>\n",
       "    <tr>\n",
       "        <td>Vidar</td>\n",
       "        <td>Turnbull</td>\n",
       "        <td>39285</td>\n",
       "        <td>Production</td>\n",
       "    </tr>\n",
       "</table>"
      ],
      "text/plain": [
       "[('Olivera', 'Baek', 38623, 'Production'),\n",
       " ('Pascal', 'Lueh', 38936, 'Human Resources'),\n",
       " ('Sachar', 'Nicolson', 38942, 'Quality Management'),\n",
       " ('Yurij', 'Narwekar', 39012, 'Finance'),\n",
       " ('Oldrich', 'Schmiedel', 39036, 'Development'),\n",
       " ('Gianluca', 'Talmor', 39117, 'Quality Management'),\n",
       " ('Marie', 'Marrakchi', 39186, 'Research'),\n",
       " ('Xiaopeng', 'Piancastelli', 39227, 'Human Resources'),\n",
       " ('Angus', 'Schlumberger', 39264, 'Research'),\n",
       " ('Vidar', 'Turnbull', 39285, 'Production')]"
      ]
     },
     "execution_count": 35,
     "metadata": {},
     "output_type": "execute_result"
    }
   ],
   "source": [
    "%%sql\n",
    "\n",
    "select first_name, last_name, salary, dept_name from employees\n",
    "natural join dept_emp natural join departments join salaries on employees.emp_no = salaries.emp_no\n",
    "where now() < salaries.to_date\n",
    "order by salary\n",
    "limit(10)"
   ]
  },
  {
   "cell_type": "code",
   "execution_count": 36,
   "metadata": {
    "collapsed": true,
    "deletable": false,
    "nbgrader": {
     "checksum": "18d0613168f18b7ab3b858a80063f020",
     "grade": true,
     "grade_id": "join8_t",
     "locked": true,
     "points": 2,
     "solution": false
    }
   },
   "outputs": [],
   "source": [
    "join8_test(_)"
   ]
  },
  {
   "cell_type": "markdown",
   "metadata": {},
   "source": [
    "### 9. What is the average salary of a female in the research department? (All time)"
   ]
  },
  {
   "cell_type": "code",
   "execution_count": null,
   "metadata": {
    "collapsed": false,
    "deletable": false,
    "nbgrader": {
     "checksum": "c6ab242fd5ebea08ccd16ea95c689164",
     "grade": false,
     "grade_id": "join9_a",
     "locked": false,
     "solution": true
    }
   },
   "outputs": [],
   "source": [
    "to_char?"
   ]
  },
  {
   "cell_type": "code",
   "execution_count": null,
   "metadata": {
    "collapsed": false,
    "deletable": false,
    "nbgrader": {
     "checksum": "cec2773a5c0ea6505d6b7bb83c2c0e63",
     "grade": true,
     "grade_id": "join9_t",
     "locked": true,
     "points": 2,
     "solution": false
    }
   },
   "outputs": [],
   "source": [
    "join9_test(_)"
   ]
  },
  {
   "cell_type": "markdown",
   "metadata": {},
   "source": [
    "### 10. Show the number of males and females in each department. (All time)\n",
    "\n",
    "the department names should be sorted and the count of females should be listed before the count of males for each department."
   ]
  },
  {
   "cell_type": "code",
   "execution_count": 40,
   "metadata": {
    "collapsed": false,
    "deletable": false,
    "nbgrader": {
     "checksum": "ce7a8da9755fb4442f2b14d88d17e201",
     "grade": false,
     "grade_id": "join10_a",
     "locked": false,
     "solution": true
    }
   },
   "outputs": [
    {
     "name": "stdout",
     "output_type": "stream",
     "text": [
      "18 rows affected.\n"
     ]
    },
    {
     "data": {
      "text/html": [
       "<table>\n",
       "    <tr>\n",
       "        <th>dept_name</th>\n",
       "        <th>gender</th>\n",
       "        <th>count</th>\n",
       "    </tr>\n",
       "    <tr>\n",
       "        <td>Research</td>\n",
       "        <td>F</td>\n",
       "        <td>8439</td>\n",
       "    </tr>\n",
       "    <tr>\n",
       "        <td>Customer Service</td>\n",
       "        <td>F</td>\n",
       "        <td>9448</td>\n",
       "    </tr>\n",
       "    <tr>\n",
       "        <td>Marketing</td>\n",
       "        <td>F</td>\n",
       "        <td>8037</td>\n",
       "    </tr>\n",
       "    <tr>\n",
       "        <td>Development</td>\n",
       "        <td>F</td>\n",
       "        <td>34258</td>\n",
       "    </tr>\n",
       "    <tr>\n",
       "        <td>Production</td>\n",
       "        <td>F</td>\n",
       "        <td>29549</td>\n",
       "    </tr>\n",
       "    <tr>\n",
       "        <td>Sales</td>\n",
       "        <td>F</td>\n",
       "        <td>20854</td>\n",
       "    </tr>\n",
       "    <tr>\n",
       "        <td>Human Resources</td>\n",
       "        <td>F</td>\n",
       "        <td>7075</td>\n",
       "    </tr>\n",
       "    <tr>\n",
       "        <td>Quality Management</td>\n",
       "        <td>F</td>\n",
       "        <td>8078</td>\n",
       "    </tr>\n",
       "    <tr>\n",
       "        <td>Finance</td>\n",
       "        <td>F</td>\n",
       "        <td>7015</td>\n",
       "    </tr>\n",
       "    <tr>\n",
       "        <td>Production</td>\n",
       "        <td>M</td>\n",
       "        <td>43936</td>\n",
       "    </tr>\n",
       "    <tr>\n",
       "        <td>Research</td>\n",
       "        <td>M</td>\n",
       "        <td>12687</td>\n",
       "    </tr>\n",
       "    <tr>\n",
       "        <td>Customer Service</td>\n",
       "        <td>M</td>\n",
       "        <td>14132</td>\n",
       "    </tr>\n",
       "    <tr>\n",
       "        <td>Sales</td>\n",
       "        <td>M</td>\n",
       "        <td>31391</td>\n",
       "    </tr>\n",
       "    <tr>\n",
       "        <td>Marketing</td>\n",
       "        <td>M</td>\n",
       "        <td>12174</td>\n",
       "    </tr>\n",
       "    <tr>\n",
       "        <td>Finance</td>\n",
       "        <td>M</td>\n",
       "        <td>10331</td>\n",
       "    </tr>\n",
       "    <tr>\n",
       "        <td>Human Resources</td>\n",
       "        <td>M</td>\n",
       "        <td>10711</td>\n",
       "    </tr>\n",
       "    <tr>\n",
       "        <td>Quality Management</td>\n",
       "        <td>M</td>\n",
       "        <td>12039</td>\n",
       "    </tr>\n",
       "    <tr>\n",
       "        <td>Development</td>\n",
       "        <td>M</td>\n",
       "        <td>51449</td>\n",
       "    </tr>\n",
       "</table>"
      ],
      "text/plain": [
       "[('Research', 'F', 8439),\n",
       " ('Customer Service', 'F', 9448),\n",
       " ('Marketing', 'F', 8037),\n",
       " ('Development', 'F', 34258),\n",
       " ('Production', 'F', 29549),\n",
       " ('Sales', 'F', 20854),\n",
       " ('Human Resources', 'F', 7075),\n",
       " ('Quality Management', 'F', 8078),\n",
       " ('Finance', 'F', 7015),\n",
       " ('Production', 'M', 43936),\n",
       " ('Research', 'M', 12687),\n",
       " ('Customer Service', 'M', 14132),\n",
       " ('Sales', 'M', 31391),\n",
       " ('Marketing', 'M', 12174),\n",
       " ('Finance', 'M', 10331),\n",
       " ('Human Resources', 'M', 10711),\n",
       " ('Quality Management', 'M', 12039),\n",
       " ('Development', 'M', 51449)]"
      ]
     },
     "execution_count": 40,
     "metadata": {},
     "output_type": "execute_result"
    }
   ],
   "source": [
    "%%sql\n",
    "\n",
    "select dept_name, gender, count(*)\n",
    "from departments natural join dept_emp natural join employees\n",
    "group by dept_name, gender\n",
    "order by gender"
   ]
  },
  {
   "cell_type": "code",
   "execution_count": 41,
   "metadata": {
    "collapsed": false,
    "deletable": false,
    "nbgrader": {
     "checksum": "38ebf048ba18a1c54c3e75cddce7f06a",
     "grade": true,
     "grade_id": "join10_t",
     "locked": true,
     "points": 2,
     "solution": false
    }
   },
   "outputs": [
    {
     "name": "stdout",
     "output_type": "stream",
     "text": [
      "Found differences in two results:\n",
      "diff in row 5 expected:  dept_name    Finance\n",
      "gender             M\n",
      "count          10331\n",
      "Name: 5, dtype: object\n",
      "Got:  dept_name    Sales\n",
      "gender           F\n",
      "count        20854\n",
      "Name: 5, dtype: object\n",
      "diff in row 7 expected:  dept_name    Human Resources\n",
      "gender                     M\n",
      "count                  10711\n",
      "Name: 7, dtype: object\n",
      "Got:  dept_name    Quality Management\n",
      "gender                        F\n",
      "count                      8078\n",
      "Name: 7, dtype: object\n",
      "diff in row 10 expected:  dept_name    Production\n",
      "gender                F\n",
      "count             29549\n",
      "Name: 10, dtype: object\n",
      "Got:  dept_name    Research\n",
      "gender              M\n",
      "count           12687\n",
      "Name: 10, dtype: object\n",
      "diff in row 12 expected:  dept_name    Quality Management\n",
      "gender                        F\n",
      "count                      8078\n",
      "Name: 12, dtype: object\n",
      "Got:  dept_name    Sales\n",
      "gender           M\n",
      "count        31391\n",
      "Name: 12, dtype: object\n",
      "diff in row 14 expected:  dept_name    Research\n",
      "gender              F\n",
      "count            8439\n",
      "Name: 14, dtype: object\n",
      "Got:  dept_name    Finance\n",
      "gender             M\n",
      "count          10331\n",
      "Name: 14, dtype: object\n",
      "diff in row 16 expected:  dept_name    Sales\n",
      "gender           F\n",
      "count        20854\n",
      "Name: 16, dtype: object\n",
      "Got:  dept_name    Quality Management\n",
      "gender                        M\n",
      "count                     12039\n",
      "Name: 16, dtype: object\n"
     ]
    },
    {
     "ename": "AssertionError",
     "evalue": "",
     "output_type": "error",
     "traceback": [
      "\u001b[0;31m---------------------------------------------------------------------------\u001b[0m",
      "\u001b[0;31mAssertionError\u001b[0m                            Traceback (most recent call last)",
      "\u001b[0;32m<ipython-input-41-ca45533ac70a>\u001b[0m in \u001b[0;36m<module>\u001b[0;34m()\u001b[0m\n\u001b[0;32m----> 1\u001b[0;31m \u001b[0mjoin10_test\u001b[0m\u001b[0;34m(\u001b[0m\u001b[0m_\u001b[0m\u001b[0;34m)\u001b[0m\u001b[0;34m\u001b[0m\u001b[0m\n\u001b[0m",
      "\u001b[0;32m/usr/local/lib/python3.5/site-packages/sols3.py\u001b[0m in \u001b[0;36mjoin10_test\u001b[0;34m(got)\u001b[0m\n\u001b[1;32m    131\u001b[0m \u001b[0morder\u001b[0m \u001b[0mby\u001b[0m \u001b[0mdept_name\u001b[0m\u001b[0;34m,\u001b[0m \u001b[0mgender\u001b[0m\u001b[0;34m\u001b[0m\u001b[0m\n\u001b[1;32m    132\u001b[0m     '''\n\u001b[0;32m--> 133\u001b[0;31m     \u001b[0msql_test\u001b[0m\u001b[0;34m(\u001b[0m\u001b[0mgot\u001b[0m\u001b[0;34m,\u001b[0m\u001b[0mq\u001b[0m\u001b[0;34m)\u001b[0m\u001b[0;34m\u001b[0m\u001b[0m\n\u001b[0m",
      "\u001b[0;32m/usr/local/lib/python3.5/site-packages/sols3.py\u001b[0m in \u001b[0;36msql_test\u001b[0;34m(got, q)\u001b[0m\n\u001b[1;32m     40\u001b[0m     \u001b[0mlen_check\u001b[0m\u001b[0;34m(\u001b[0m\u001b[0mact\u001b[0m\u001b[0;34m,\u001b[0m\u001b[0mgot\u001b[0m\u001b[0;34m)\u001b[0m\u001b[0;34m\u001b[0m\u001b[0m\n\u001b[1;32m     41\u001b[0m     \u001b[0;32mif\u001b[0m \u001b[0;32mnot\u001b[0m \u001b[0mgot\u001b[0m\u001b[0;34m.\u001b[0m\u001b[0mequals\u001b[0m\u001b[0;34m(\u001b[0m\u001b[0mact\u001b[0m\u001b[0;34m)\u001b[0m\u001b[0;34m:\u001b[0m\u001b[0;34m\u001b[0m\u001b[0m\n\u001b[0;32m---> 42\u001b[0;31m         \u001b[0mshow_diff\u001b[0m\u001b[0;34m(\u001b[0m\u001b[0mact\u001b[0m\u001b[0;34m,\u001b[0m\u001b[0mgot\u001b[0m\u001b[0;34m)\u001b[0m\u001b[0;34m\u001b[0m\u001b[0m\n\u001b[0m\u001b[1;32m     43\u001b[0m \u001b[0;34m\u001b[0m\u001b[0m\n\u001b[1;32m     44\u001b[0m \u001b[0;34m\u001b[0m\u001b[0m\n",
      "\u001b[0;32m/usr/local/lib/python3.5/site-packages/sols3.py\u001b[0m in \u001b[0;36mshow_diff\u001b[0;34m(act, got)\u001b[0m\n\u001b[1;32m     30\u001b[0m             \u001b[0mprint\u001b[0m\u001b[0;34m(\u001b[0m\u001b[0;34m\"Got: \"\u001b[0m\u001b[0;34m,\u001b[0m \u001b[0mgot\u001b[0m\u001b[0;34m.\u001b[0m\u001b[0miloc\u001b[0m\u001b[0;34m[\u001b[0m\u001b[0mi\u001b[0m\u001b[0;34m]\u001b[0m\u001b[0;34m)\u001b[0m\u001b[0;34m\u001b[0m\u001b[0m\n\u001b[1;32m     31\u001b[0m     \u001b[0;32mif\u001b[0m \u001b[0mdiff\u001b[0m\u001b[0;34m:\u001b[0m\u001b[0;34m\u001b[0m\u001b[0m\n\u001b[0;32m---> 32\u001b[0;31m         \u001b[0;32massert\u001b[0m \u001b[0;32mFalse\u001b[0m\u001b[0;34m\u001b[0m\u001b[0m\n\u001b[0m\u001b[1;32m     33\u001b[0m     \u001b[0;32melse\u001b[0m\u001b[0;34m:\u001b[0m\u001b[0;34m\u001b[0m\u001b[0m\n\u001b[1;32m     34\u001b[0m         \u001b[0mprint\u001b[0m\u001b[0;34m(\u001b[0m\u001b[0;34m\"But a line by line comparison turned out OK, so you are fine\"\u001b[0m\u001b[0;34m)\u001b[0m\u001b[0;34m\u001b[0m\u001b[0m\n",
      "\u001b[0;31mAssertionError\u001b[0m: "
     ]
    }
   ],
   "source": [
    "join10_test(_)"
   ]
  }
 ],
 "metadata": {
  "kernelspec": {
   "display_name": "Python 3",
   "language": "python",
   "name": "python3"
  },
  "language_info": {
   "codemirror_mode": {
    "name": "ipython",
    "version": 3
   },
   "file_extension": ".py",
   "mimetype": "text/x-python",
   "name": "python",
   "nbconvert_exporter": "python",
   "pygments_lexer": "ipython3",
   "version": "3.5.1"
  }
 },
 "nbformat": 4,
 "nbformat_minor": 0
}
